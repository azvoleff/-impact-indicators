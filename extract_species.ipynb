{
 "cells": [
  {
   "cell_type": "code",
   "execution_count": 13,
   "metadata": {},
   "outputs": [],
   "source": [
    "import glob\n",
    "import os\n",
    "import re\n",
    "import time\n",
    "import random\n",
    "\n",
    "import ee\n",
    "import pandas as pd\n",
    "\n",
    "#ee.Authenticate()\n",
    "ee.Initialize()"
   ]
  },
  {
   "cell_type": "code",
   "execution_count": 7,
   "metadata": {},
   "outputs": [],
   "source": [
    "year = '2021'\n",
    "\n",
    "sites = ee.FeatureCollection(\"projects/gef-ld-toolbox/assets/impact_sites_2021_round2\")\n",
    "\n",
    "# Adds species polygons for all IUCN species\n",
    "t1 = ee.FeatureCollection(\"projects/ci_geospatial_assets/iucn_ranges/iucn_all_simple_20191210_01\")\n",
    "t2 = ee.FeatureCollection(\"projects/ci_geospatial_assets/iucn_ranges/iucn_all_simple_20191210_02\")\n",
    "t3 = ee.FeatureCollection(\"projects/ci_geospatial_assets/iucn_ranges/iucn_all_simple_20191210_03\")\n",
    "t4 = ee.FeatureCollection(\"projects/ci_geospatial_assets/iucn_ranges/iucn_all_simple_20191210_04\")\n",
    "t5 = ee.FeatureCollection(\"projects/ci_geospatial_assets/iucn_ranges/iucn_all_simple_20191210_05\")\n",
    "t6 = ee.FeatureCollection(\"projects/ci_geospatial_assets/iucn_ranges/iucn_all_simple_20191210_06\")\n",
    "t7 = ee.FeatureCollection(\"projects/ci_geospatial_assets/iucn_ranges/iucn_all_simple_20191210_07\")\n",
    "t8 = ee.FeatureCollection(\"projects/ci_geospatial_assets/iucn_ranges/iucn_all_simple_20191210_08\")\n",
    "t9 = ee.FeatureCollection(\"projects/ci_geospatial_assets/iucn_ranges/iucn_all_simple_20191210_09\")\n",
    "t10 = ee.FeatureCollection(\"projects/ci_geospatial_assets/iucn_ranges/iucn_all_simple_20191210_10\")\n",
    "t11 = ee.FeatureCollection(\"projects/ci_geospatial_assets/iucn_ranges/iucn_all_simple_20191210_11\")\n",
    "\n",
    "all_species = t1.merge(t2).merge(t3).merge(t4).merge(t5).merge(t6).merge(t7).merge(t8).merge(t9).merge(t10).merge(t11)"
   ]
  },
  {
   "cell_type": "code",
   "execution_count": 8,
   "metadata": {},
   "outputs": [],
   "source": [
    "site_IDs = [feature['properties']['id'] for feature in sites.getInfo()['features']]"
   ]
  },
  {
   "cell_type": "code",
   "execution_count": 9,
   "metadata": {},
   "outputs": [],
   "source": [
    "def get_species_filtered(species, sites, site_id, filter_category=True):\n",
    "    filter_cats = [\"CR\",\"EN\",\"VU\"]\n",
    "    if filter_category:\n",
    "        species = species.filter(ee.Filter.inList('category', filter_cats))\n",
    "        suffix = 'CR-EN-VU'\n",
    "    else:\n",
    "        species = species.filter(ee.Filter.inList('category', filter_cats).Not())\n",
    "        suffix = 'other'\n",
    "\n",
    "    species = species.filterBounds(sites.filter(ee.Filter.eq(\"id\", site_id)).geometry()).distinct(\"binomial\")\n",
    "    t = ee.batch.Export.table.toCloudStorage(collection=species,\n",
    "                                             description=\"exportSpecies_{}_{}.csv\".format(site_id, suffix),\n",
    "                                             bucket=\"trendsearth\",\n",
    "                                             fileNamePrefix='species_data/species_{}_{}'.format(site_id, suffix),\n",
    "                                             fileFormat='CSV',\n",
    "                                             selectors=['binomial', 'category', 'kingdom', 'phylum', 'class', 'family', 'iucn_group'])\n",
    "    t.start()\n",
    "    return t\n",
    "\n",
    "def get_species(species, sites, site_id):\n",
    "    species = species.filterBounds(sites.filter(ee.Filter.eq(\"id\", site_id)).geometry()).distinct(\"binomial\")\n",
    "    t = ee.batch.Export.table.toCloudStorage(collection=species,\n",
    "                                             description=\"exportSpecies_{}.csv\".format(site_id),\n",
    "                                             bucket=\"trendsearth\",\n",
    "                                             fileNamePrefix='species_data/species_{}'.format(site_id),\n",
    "                                             fileFormat='CSV',\n",
    "                                             selectors=['binomial', 'category', 'kingdom', 'phylum', 'class', 'family', 'iucn_group'])\n",
    "    t.start()\n",
    "    return t"
   ]
  },
  {
   "cell_type": "code",
   "execution_count": 10,
   "metadata": {},
   "outputs": [
    {
     "name": "stdout",
     "output_type": "stream",
     "text": [
      "1478\n"
     ]
    }
   ],
   "source": [
    "# How many sites?\n",
    "print(len(site_IDs))"
   ]
  },
  {
   "cell_type": "markdown",
   "metadata": {},
   "source": [
    "# Submit tasks to GEE"
   ]
  },
  {
   "cell_type": "code",
   "execution_count": null,
   "metadata": {},
   "outputs": [
    {
     "name": "stdout",
     "output_type": "stream",
     "text": [
      "Finished submitting 300 tasks. Sleeping for 538.7844349046926 seconds...\n",
      "Finished submitting 600 tasks. Sleeping for 1701.2933049372084 seconds...\n",
      "Finished submitting 900 tasks. Sleeping for 621.3375657244209 seconds...\n",
      "Finished submitting 1200 tasks. Sleeping for 1340.2839616963897 seconds...\n"
     ]
    }
   ],
   "source": [
    "t = []\n",
    "n = 0\n",
    "for site_ID in site_IDs:\n",
    "    t.append(get_species_filtered(all_species, sites, site_ID))\n",
    "    # sleep after each submission, and then periodically sleep longer so\n",
    "    # gee doesn't get upset\n",
    "    time.sleep(random.random()*3)\n",
    "    n += 1\n",
    "    if n % 300 == 0:\n",
    "        sec = random.random()*1800\n",
    "        print('Finished submitting {} tasks. Sleeping for {} seconds...'.format(n, sec))\n",
    "        time.sleep(sec)"
   ]
  },
  {
   "cell_type": "code",
   "execution_count": null,
   "metadata": {},
   "outputs": [],
   "source": [
    "stats = {}\n",
    "for t in ee.batch.Task.list():\n",
    "    if t.state in stats:\n",
    "        stats[t.state] += 1\n",
    "    else:\n",
    "        stats[t.state] = 0\n",
    "print(stats)"
   ]
  },
  {
   "cell_type": "code",
   "execution_count": null,
   "metadata": {},
   "outputs": [],
   "source": [
    "# Assemble data into a single CSV after it is downloaded"
   ]
  },
  {
   "cell_type": "code",
   "execution_count": 23,
   "metadata": {},
   "outputs": [],
   "source": [
    "suffix = 'CR-EN-VU'\n",
    "sp_data_path = os.path.join('D:/', 'Data', 'Impacts_Data', 'species')\n",
    "li = []\n",
    "for f in [f for f in os.listdir(sp_data_path) if re.search(r'^species_[A-Za-z0-9]*', f)]:\n",
    "    df = pd.read_csv(os.path.join(sp_data_path, f), index_col=None, header=0)\n",
    "    df['site_id'] = re.search(r'^species_([A-Za-z0-9]*)', f).group(1)\n",
    "    li.append(df)\n",
    "frame = pd.concat(li, axis=0, ignore_index=True)\n",
    "frame.to_csv(os.path.join(sp_data_path, f'species_all_sites_{suffix}.csv'), index=False)"
   ]
  }
 ],
 "metadata": {
  "kernelspec": {
   "display_name": "gee",
   "language": "python",
   "name": "gee"
  },
  "language_info": {
   "codemirror_mode": {
    "name": "ipython",
    "version": 3
   },
   "file_extension": ".py",
   "mimetype": "text/x-python",
   "name": "python",
   "nbconvert_exporter": "python",
   "pygments_lexer": "ipython3",
   "version": "3.9.4"
  }
 },
 "nbformat": 4,
 "nbformat_minor": 4
}
